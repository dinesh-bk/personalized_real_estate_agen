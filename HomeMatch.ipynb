{
 "cells": [
  {
   "cell_type": "markdown",
   "id": "a108af04",
   "metadata": {},
   "source": [
    "This is a starter notebook for the project, you'll have to import the libraries you'll need, you can find a list of the ones available in this workspace in the requirements.txt file in this workspace. "
   ]
  },
  {
   "cell_type": "code",
   "execution_count": 23,
   "id": "6554fd4c",
   "metadata": {},
   "outputs": [],
   "source": [
    "import openai\n",
    "import os\n",
    "import csv\n",
    "\n",
    "from langchain.embeddings.openai import OpenAIEmbeddings\n",
    "from langchain.document_loaders.csv_loader import CSVLoader\n",
    "from langchain.chat_models import ChatOpenAI\n",
    "from langchain.llms import OpenAI\n",
    "from langchain.text_splitter import CharacterTextSplitter\n",
    "from langchain.vectorstores import Chroma\n",
    "from langchain.chains import RetrievalQA\n",
    "from langchain.prompts import PromptTemplate\n",
    "from langchain import LLMChain\n",
    "from langchain.chains.question_answering import load_qa_chain"
   ]
  },
  {
   "cell_type": "code",
   "execution_count": 3,
   "id": "4d3ce65f",
   "metadata": {},
   "outputs": [],
   "source": [
    "openai_api_key=\" \"\n",
    "os.environ[\"OPENAI_API_KEY\"] = openai_api_key"
   ]
  },
  {
   "cell_type": "markdown",
   "id": "e19abebb",
   "metadata": {},
   "source": [
    "## Synthetic Data Generation"
   ]
  },
  {
   "cell_type": "code",
   "execution_count": 24,
   "id": "8d903e9d",
   "metadata": {},
   "outputs": [
    {
     "name": "stderr",
     "output_type": "stream",
     "text": [
      "/opt/conda/lib/python3.10/site-packages/langchain/llms/openai.py:202: UserWarning: You are trying to use a chat model. This way of initializing it is no longer supported. Instead, please use: `from langchain.chat_models import ChatOpenAI`\n",
      "  warnings.warn(\n",
      "/opt/conda/lib/python3.10/site-packages/langchain/llms/openai.py:790: UserWarning: You are trying to use a chat model. This way of initializing it is no longer supported. Instead, please use: `from langchain.chat_models import ChatOpenAI`\n",
      "  warnings.warn(\n"
     ]
    }
   ],
   "source": [
    "# Generating Real Estate Listings with an LLM\n",
    "model_name = \"gpt-3.5-turbo\"\n",
    "temperature = 0.0\n",
    "llm = OpenAI(model_name=model_name, temperature=temperature, max_tokens = 4000)"
   ]
  },
  {
   "cell_type": "code",
   "execution_count": 25,
   "id": "184f3930",
   "metadata": {
    "scrolled": false
   },
   "outputs": [],
   "source": [
    "data_gen_template = \"\"\"\n",
    "generate csv formatted {num_listings} listings for different imaginary real estates. come up with different name and values for each one. \n",
    "An example of a listing is:\n",
    "Neighborhood: Green Oaks\n",
    "Price: $800000\n",
    "Bedrooms: 3\n",
    "Bathrooms: 2\n",
    "House Size: 2000 sqft\n",
    "Description: Welcome to this eco-friendly oasis nestled in the heart of Green Oaks. This charming 3-bedroom, 2-bathroom home boasts energy-efficient features such as solar panels and a well-insulated structure. Natural light floods the living spaces, highlighting the beautiful hardwood floors and eco-conscious finishes. The open-concept kitchen and dining area lead to a spacious backyard with a vegetable garden, perfect for the eco-conscious family. Embrace sustainable living without compromising on style in this Green Oaks gem.\n",
    "Neighborhood Description: Green Oaks is a close-knit, environmentally-conscious community with access to organic grocery stores, community gardens, and bike paths. Take a stroll through the nearby Green Oaks Park or grab a cup of coffee at the cozy Green Bean Cafe. With easy access to public transportation and bike lanes, commuting is a breeze.\n",
    "each listings will have these fields in the csv: neighborhood,price,bedrooms,bathrooms,house_size, description, neighborhood_description.\n",
    "be creative in your listings, amaze us, csv format is a must.\n",
    "\"\"\"\n",
    "\n",
    "# Prompt to generate the listing\n",
    "data_gen_prompt = PromptTemplate.from_template(data_gen_template)"
   ]
  },
  {
   "cell_type": "code",
   "execution_count": 26,
   "id": "2fb4d487",
   "metadata": {},
   "outputs": [],
   "source": [
    "# Listings in CSV format\n",
    "listings_csv = llm(data_gen_prompt.format(num_listings=10))"
   ]
  },
  {
   "cell_type": "code",
   "execution_count": 27,
   "id": "4c315d7f",
   "metadata": {},
   "outputs": [
    {
     "data": {
      "text/plain": [
       "\"neighborhood,price,bedrooms,bathrooms,house_size,description,neighborhood_description\\nSunset Heights,$950000,4,3,2500 sqft,Welcome to this luxurious 4-bedroom, 3-bathroom home in the prestigious Sunset Heights neighborhood. This stunning property features high-end finishes, a gourmet kitchen, and a spacious backyard with a sparkling pool. Perfect for entertaining or relaxing in style. Sunset Heights is known for its upscale dining options, boutique shops, and beautiful parks. Enjoy the vibrant community and upscale living in this exclusive neighborhood.\\nDowntown Loft,$700000,2,2,1800 sqft,Live in the heart of the city in this modern 2-bedroom, 2-bathroom loft in downtown. This chic property boasts high ceilings, exposed brick walls, and floor-to-ceiling windows with stunning city views. The open-concept living space is perfect for urban living and entertaining. Downtown offers a vibrant nightlife, trendy restaurants, and easy access to public transportation. Experience city living at its finest in this stylish downtown loft.\\nLakefront Retreat,$1200000,5,4,3500 sqft,Escape to this serene 5-bedroom, 4-bathroom lakefront retreat. This custom-built home features panoramic views of the lake, a gourmet kitchen, and a private dock for boating and fishing. The spacious deck and outdoor living area are perfect for enjoying the peaceful surroundings. The neighborhood offers a private beach, hiking trails, and a sense of tranquility. Experience luxury lakefront living in this stunning retreat.\\nMountain View Manor,$850000,3,2.5,2200 sqft,Welcome to Mountain View Manor, where luxury meets nature. This 3-bedroom, 2.5-bathroom home offers breathtaking mountain views, a gourmet kitchen, and a cozy fireplace. The expansive deck is perfect for enjoying the fresh mountain air and stunning sunsets. Mountain View Manor is a nature lover's paradise, with hiking trails, wildlife, and a sense of peace and tranquility. Embrace mountain living in this beautiful manor.\\nSeaside Cottage,$600000,2,1,1500 sqft,Live the coastal lifestyle in this charming 2-bedroom, 1-bathroom seaside cottage. This cozy home features a bright and airy living space, a gourmet kitchen, and a private patio for outdoor dining. Just steps away from the beach, Seaside Cottage offers ocean views, salty sea breezes, and a relaxed beach town vibe. Enjoy beach living at its best in this adorable seaside cottage.\\nRanch Retreat,$750000,4,3,2000 sqft,Escape to this peaceful 4-bedroom, 3-bathroom ranch retreat. This spacious property features a large living room, a country-style kitchen, and a sprawling backyard with a barn and horse stables. Perfect for horse lovers or those seeking a quiet country lifestyle. The neighborhood offers wide-open spaces, fresh air, and a sense of community. Experience ranch living in this tranquil retreat.\\nUrban Oasis,$900000,3,2.5,2300 sqft,Discover your own urban oasis in this stylish 3-bedroom, 2.5-bathroom home. This modern property features sleek finishes, a gourmet kitchen, and a rooftop deck with city views. The open-concept living space is perfect for entertaining or relaxing in style. The neighborhood offers trendy restaurants, boutique shops, and a vibrant urban lifestyle. Live in luxury in this chic urban oasis.\\nForest Hideaway,$800000,3,2,1800 sqft,Escape to this secluded 3-bedroom, 2-bathroom forest hideaway. This charming home features a cozy fireplace, a gourmet kitchen, and a private deck surrounded by towering trees. Perfect for nature lovers or those seeking a peaceful retreat. The neighborhood offers hiking trails, wildlife, and a sense of tranquility. Embrace nature in this enchanting forest hideaway.\\nHistoric Mansion,$1500000,6,4.5,5000 sqft,Step back in time in this grand 6-bedroom, 4.5-bathroom historic mansion. This stately home features elegant architecture, period details, and a sprawling estate with lush gardens. The grand foyer, formal dining room, and library exude old-world charm and sophistication. The neighborhood is known for its historic homes, tree-lined streets, and sense of elegance. Live in luxury in this magnificent historic mansion.\\nLuxury Penthouse,$2000000,3,3.5,3000 sqft,Live the high life in this luxurious 3-bedroom, 3.5-bathroom penthouse. This upscale property features high-end finishes, a gourmet kitchen, and a private rooftop terrace with panoramic city views. The open-concept living space is perfect for entertaining or relaxing in style. The neighborhood offers fine dining, designer boutiques, and a cosmopolitan lifestyle. Experience luxury living in this exclusive penthouse.\""
      ]
     },
     "execution_count": 27,
     "metadata": {},
     "output_type": "execute_result"
    }
   ],
   "source": [
    "listings_csv"
   ]
  },
  {
   "cell_type": "markdown",
   "id": "067b7377",
   "metadata": {},
   "source": [
    "## Creating a Vector Database and Storing Listings"
   ]
  },
  {
   "cell_type": "code",
   "execution_count": null,
   "id": "272c32a3",
   "metadata": {},
   "outputs": [],
   "source": [
    "# Function to save the listings in CSV\n",
    "def generate_csv_from_text(csv_text, output_filename):\n",
    "    # Split the text into lines\n",
    "    lines = csv_text.strip().split('\\n')\n",
    "    \n",
    "    # Create a CSV reader from the lines\n",
    "    reader = csv.reader(lines)\n",
    "    \n",
    "    # Open the output file in write mode\n",
    "    with open(output_filename, 'w', newline='') as csvfile:\n",
    "        writer = csv.writer(csvfile)\n",
    "        \n",
    "        # Write each row to the CSV file\n",
    "        for row in reader:\n",
    "            writer.writerow(row)\n",
    "    \n",
    "    print(f\"CSV file '{output_filename}' generated successfully.\")\n",
    "    \n",
    "# Generate CSV with listings \n",
    "generate_csv_from_text(listings_csv, 'listings.csv')"
   ]
  },
  {
   "cell_type": "code",
   "execution_count": 4,
   "id": "5df625ba",
   "metadata": {
    "scrolled": false
   },
   "outputs": [],
   "source": [
    "loader = CSVLoader(file_path='./listings.csv')\n",
    "data = loader.load()"
   ]
  },
  {
   "cell_type": "code",
   "execution_count": 5,
   "id": "28749348",
   "metadata": {},
   "outputs": [],
   "source": [
    "# Character Splitter\n",
    "splitter = CharacterTextSplitter(chunk_size=1000, chunk_overlap=0)\n",
    "split_docs = splitter.split_documents(data)\n",
    "\n",
    "# Embeddings\n",
    "embeddings = OpenAIEmbeddings()\n",
    "\n",
    "# Vector Database\n",
    "db = Chroma.from_documents(split_docs, embeddings)"
   ]
  },
  {
   "cell_type": "markdown",
   "id": "4a96a659",
   "metadata": {},
   "source": [
    "## Semantic Search of Listings Based on Buyer Preferences"
   ]
  },
  {
   "cell_type": "code",
   "execution_count": 8,
   "id": "80036665",
   "metadata": {},
   "outputs": [],
   "source": [
    "def query_user_and_create_prompt(questions):\n",
    "    answers = []\n",
    "    \n",
    "    for question in questions:\n",
    "        while True:\n",
    "            if question.startswith(\"How big do you want your house to be\"):\n",
    "                answer = input(question + \" \")\n",
    "                \n",
    "                if not answer.strip():\n",
    "                    print(\"Answer cannot be empty. Please provide a valid response.\")\n",
    "                    continue\n",
    "                \n",
    "                try:\n",
    "                    size = float(answer)\n",
    "                    if size <= 0:\n",
    "                        print(\"Please enter a valid positive number for house size.\")\n",
    "                        continue\n",
    "                    answers.append(answer)\n",
    "                    break\n",
    "                except ValueError:\n",
    "                    print(\"Please enter a valid number for house size.\")\n",
    "                    continue\n",
    "            \n",
    "            elif question.startswith(\"Enter the estimated price\"):\n",
    "                answer = input(question + \" \")\n",
    "                \n",
    "                if not answer.strip():\n",
    "                    print(\"Answer cannot be empty. Please provide a valid response.\")\n",
    "                    continue\n",
    "                \n",
    "                try:\n",
    "                    price = float(answer)\n",
    "                    if price <= 0:\n",
    "                        print(\"Please enter a valid positive number for house price.\")\n",
    "                        continue\n",
    "                    answers.append(answer)\n",
    "                    break\n",
    "                except ValueError:\n",
    "                    print(\"Please enter a valid number for house price.\")\n",
    "                    continue\n",
    "            \n",
    "            elif question.startswith(\"Which amenities would you like\"):\n",
    "                amenities_list = [\"pool\", \"gym\", \"parking\", \"security\", \"balcony\"]\n",
    "                #print(f\"Available amenities: {', '.join(amenities_list)}\")\n",
    "                answer = input(question + f\" (Choose from {', '.join(amenities_list)}): \")\n",
    "                \n",
    "                if not answer.strip():\n",
    "                    print(\"Answer cannot be empty. Please provide a valid response.\")\n",
    "                    continue\n",
    "                \n",
    "                chosen_amenities = [amenity.strip().lower() for amenity in answer.split(',') if amenity.strip().lower() in amenities_list]\n",
    "                if not chosen_amenities:\n",
    "                    print(\"Invalid selection. Please choose from the provided list.\")\n",
    "                    continue\n",
    "                answers.append(','.join(chosen_amenities))\n",
    "                break\n",
    "            \n",
    "            elif question.startswith(\"Which transportation options are important\"):\n",
    "                transport_list = [\"bus\", \"train\", \"subway\", \"car\", \"bike\"]\n",
    "                # print(f\"Available transportation options: {', '.join(transport_list)}\")\n",
    "                answer = input(question + f\" (Choose from {', '.join(transport_list)}): \")\n",
    "                \n",
    "                if not answer.strip():\n",
    "                    print(\"Answer cannot be empty. Please provide a valid response.\")\n",
    "                    continue\n",
    "                \n",
    "                chosen_transports = [transport.strip().lower() for transport in answer.split(',') if transport.strip().lower() in transport_list]\n",
    "                if not chosen_transports:\n",
    "                    print(\"Invalid selection. Please choose from the provided list.\")\n",
    "                    continue\n",
    "                answers.append(','.join(chosen_transports))\n",
    "                break\n",
    "            \n",
    "            elif question.startswith(\"How urban do you want your neighborhood to be\"):\n",
    "                urban_choices = [\"Sub-Urban\", \"Urban\", \"Rural\"]\n",
    "                #print(f\"Urban preference options: {', '.join(urban_choices)}\")\n",
    "                answer = input(question + f\" (Choose from {', '.join(urban_choices)}): \")\n",
    "                \n",
    "                if not answer.strip():\n",
    "                    print(\"Answer cannot be empty. Please provide a valid response.\")\n",
    "                    continue\n",
    "                \n",
    "                answer = answer.strip().title()  # Capitalize the user's choice\n",
    "                if answer not in urban_choices:\n",
    "                    print(\"Invalid selection. Please choose from the provided list.\")\n",
    "                    continue\n",
    "                answers.append(answer)\n",
    "                break\n",
    "    \n",
    "    ## Generate the formatted property search criteria paragraph\n",
    "    prompt = f\"We are looking for a property that meets our specific preferences. Our ideal home should be around {answers[0]} square feet, with an estimated budget of ${answers[1]}. We would prefer amenities such as {answers[2]}, and transportation options like {answers[3]} are essential. Additionally, we envision our neighborhood to be {answers[4]}.\\n\"\n",
    "    return prompt"
   ]
  },
  {
   "cell_type": "code",
   "execution_count": 9,
   "id": "560bb696",
   "metadata": {
    "scrolled": true
   },
   "outputs": [
    {
     "name": "stdout",
     "output_type": "stream",
     "text": [
      "How big do you want your house to be? Enter in sqft:  9\n",
      "Enter the estimated price for the house you are looking for:  800\n",
      "Which amenities would you like? (Choose from pool, gym, parking, security, balcony): pool, gym, parking\n",
      "Which transportation options are important to you? (Choose from bus, train, subway, car, bike): bus, train, subway\n",
      "How urban do you want your neighborhood to be? (Choose from Sub-Urban, Urban, Rural): urban\n"
     ]
    }
   ],
   "source": [
    "# Example usage:\n",
    "questions = [\n",
    "    \"How big do you want your house to be? Enter in sqft: \", \n",
    "    \"Enter the estimated price for the house you are looking for: \", \n",
    "    \"Which amenities would you like?\", \n",
    "    \"Which transportation options are important to you?\", \n",
    "    \"How urban do you want your neighborhood to be?\"\n",
    "]\n",
    "prompt = query_user_and_create_prompt(questions)"
   ]
  },
  {
   "cell_type": "markdown",
   "id": "73be25c1",
   "metadata": {},
   "source": [
    "## Use of LLM for Generating Personalized Descriptions"
   ]
  },
  {
   "cell_type": "code",
   "execution_count": 29,
   "id": "1ebc7f79",
   "metadata": {},
   "outputs": [
    {
     "name": "stdout",
     "output_type": "stream",
     "text": [
      "Neighborhood: modern townhouse\n",
      "price: $700000\n",
      "bedrooms: 3\n",
      "bathrooms: 2\n",
      "house_size: 1800\n",
      "description: live in style in this modern townhouse with sleek design and urban amenities. this 3-bedroom, 2-bathroom townhouse features a gourmet kitchen, a private patio, and a rooftop deck with city views. the contemporary finishes and open layout create a chic and sophisticated living space perfect for modern living.\n",
      "neighborhood_description: modern townhouse is a trendy neighborhood with hip cafes, art galleries, and boutique shops. residents can walk to the nearby park, bike along the riverfront, or attend a yoga class at the local studio. \n",
      "\n",
      "Neighborhood: urban chic loft\n",
      "price: $600000\n",
      "bedrooms: 2\n",
      "bathrooms: 1\n",
      "house_size: 1500\n",
      "description: live in style in this urban chic loft located in the heart of the city. this 2-bedroom, 1-bathroom loft features exposed brick walls, high ceilings, and industrial accents. the open floor plan and modern design create a trendy and vibrant living space perfect for young professionals and city dwellers.\n",
      "neighborhood_description: urban chic loft is a vibrant neighborhood with trendy cafes, art galleries, and boutique shops. residents can walk to the nearby farmers market, catch a show at the local theater, or hop on the subway for a night out in the city. \n",
      "\n",
      "Neighborhood: downtown loft\n",
      "price: $500000\n",
      "bedrooms: 1\n",
      "bathrooms: 1\n",
      "house_size: 1000\n",
      "description: experience urban living in this downtown loft with industrial chic design. this 1-bedroom, 1-bathroom loft features exposed ductwork, concrete floors, and a rooftop deck with city views. the open layout and modern finishes create a trendy and hip living space perfect for young professionals and city dwellers.\n",
      "neighborhood_description: downtown loft is a lively neighborhood with hip cafes, art galleries, and boutique shops. residents can walk to the nearby farmers market, catch a show at the local theater, or hop on the subway for a night out in the city. \n",
      "\n",
      "input_variables=['query', 'context'] template='{query}\\nContext: {context}' \n",
      "\n",
      "Based on your preferences, the Urban Chic Loft seems to be the best fit for you. It is located in a vibrant neighborhood with trendy cafes, art galleries, and boutique shops. The loft features 2 bedrooms, 1 bathroom, and is 1500 square feet in size. It has industrial accents and high ceilings, creating a trendy and vibrant living space perfect for young professionals and city dwellers. Additionally, the neighborhood offers easy access to transportation options like the subway for a night out in the city. The price of the Urban Chic Loft is $600,000, which is within your budget of $800,000.\n"
     ]
    }
   ],
   "source": [
    "## Logic for Searching and Augmenting Listing Descriptions\n",
    "def augmented_response_generation(query):\n",
    "    use_chain_helper = False\n",
    "    \n",
    "    if use_chain_helper:\n",
    "        rag = RetrievalQA.from_chain_type(llm=llm, chain_type=\"stuff\", retriever=db.as_retriever())\n",
    "        response = rag.run(query)\n",
    "    else:\n",
    "        similar_docs = db.similarity_search(query, k=3)\n",
    "        for i in range(len(similar_docs)):\n",
    "            print(similar_docs[i].page_content.capitalize(), \"\\n\")\n",
    "        \n",
    "        prompt_template = PromptTemplate(\n",
    "            template=\"{query}\\nContext: {context}\",\n",
    "            input_variables=[\"query\", \"context\"],\n",
    "        )\n",
    "        print(prompt_template, \"\\n\")\n",
    "        chain = load_qa_chain(llm, prompt=prompt_template, chain_type=\"stuff\")\n",
    "        response = chain.run(input_documents=similar_docs, query=query)\n",
    "    \n",
    "    print(response)\n",
    "    \n",
    "## Generate Response\n",
    "augmented_response_generation(prompt)"
   ]
  },
  {
   "cell_type": "code",
   "execution_count": null,
   "id": "42488200",
   "metadata": {},
   "outputs": [],
   "source": []
  }
 ],
 "metadata": {
  "kernelspec": {
   "display_name": "Python 3 (ipykernel)",
   "language": "python",
   "name": "python3"
  },
  "language_info": {
   "codemirror_mode": {
    "name": "ipython",
    "version": 3
   },
   "file_extension": ".py",
   "mimetype": "text/x-python",
   "name": "python",
   "nbconvert_exporter": "python",
   "pygments_lexer": "ipython3",
   "version": "3.10.11"
  }
 },
 "nbformat": 4,
 "nbformat_minor": 5
}
